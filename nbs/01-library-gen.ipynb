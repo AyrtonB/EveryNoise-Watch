{
 "cells": [
  {
   "cell_type": "code",
   "execution_count": 1,
   "id": "071d4009-fcbb-4403-a7b7-10fc12f068d3",
   "metadata": {},
   "outputs": [],
   "source": [
    "# default_exp download"
   ]
  },
  {
   "cell_type": "code",
   "execution_count": null,
   "id": "80fd0886-cb4b-46e5-aed9-cdd7271e7416",
   "metadata": {},
   "outputs": [],
   "source": []
  },
  {
   "cell_type": "code",
   "execution_count": 2,
   "id": "132b9881-5986-44e3-ae1e-841fa5f6703e",
   "metadata": {},
   "outputs": [],
   "source": [
    "#exports\n",
    "import pandas as pd\n",
    "import typer\n",
    "import textwrap\n",
    "import requests\n",
    "from bs4 import BeautifulSoup as bs"
   ]
  },
  {
   "cell_type": "code",
   "execution_count": null,
   "id": "80b3d3f8-6506-4777-a7c0-b515070cad36",
   "metadata": {},
   "outputs": [],
   "source": []
  },
  {
   "cell_type": "code",
   "execution_count": 3,
   "id": "edcb581c-8f51-4142-9ed5-55c654dfdbc6",
   "metadata": {},
   "outputs": [],
   "source": [
    "#exports\n",
    "def get_every_noise_canvas(everynoise_url='https://everynoise.com/'):\n",
    "    r = requests.get(everynoise_url)\n",
    "    soup = bs(r.text, features='lxml')\n",
    "    \n",
    "    canvases = soup.find_all('div', attrs={'class': 'canvas'})\n",
    "    assert len(canvases) == 1, ''\n",
    "    canvas = canvases[0]\n",
    "\n",
    "    return canvas"
   ]
  },
  {
   "cell_type": "code",
   "execution_count": 4,
   "id": "110dd4e7-a583-4279-b32d-eb9f53500e3e",
   "metadata": {},
   "outputs": [],
   "source": [
    "canvas = get_every_noise_canvas()"
   ]
  },
  {
   "cell_type": "code",
   "execution_count": null,
   "id": "03cde15a-bde9-4fa2-a782-f081be6b3613",
   "metadata": {},
   "outputs": [],
   "source": []
  },
  {
   "cell_type": "code",
   "execution_count": 5,
   "id": "08c950d9-8794-4402-b66d-435fd0310fbb",
   "metadata": {},
   "outputs": [],
   "source": [
    "#exports\n",
    "extract_style_elems = lambda genre_elem: {\n",
    "    style_elem.split(': ')[0].strip(): style_elem.split(': ')[1].replace('px', '')\n",
    "    for style_elem \n",
    "    in genre_elem['style'].split(';')\n",
    "}\n",
    "\n",
    "def extract_canvas_height_width(canvas):\n",
    "    canvas_style_elems = extract_style_elems(canvas)\n",
    "\n",
    "    canvas_height = int(canvas_style_elems['height'])\n",
    "    canvas_width = int(canvas_style_elems['width'])\n",
    "\n",
    "    return canvas_height, canvas_width"
   ]
  },
  {
   "cell_type": "code",
   "execution_count": 6,
   "id": "779f61ca-0c0c-4ad0-af7e-dfcc54602160",
   "metadata": {},
   "outputs": [
    {
     "data": {
      "text/plain": [
       "(19666, 1607)"
      ]
     },
     "execution_count": 6,
     "metadata": {},
     "output_type": "execute_result"
    }
   ],
   "source": [
    "canvas_height, canvas_width = extract_canvas_height_width(canvas)\n",
    "\n",
    "canvas_height, canvas_width"
   ]
  },
  {
   "cell_type": "code",
   "execution_count": null,
   "id": "567a72be-d728-4959-9569-32fc2ac33d98",
   "metadata": {},
   "outputs": [],
   "source": []
  },
  {
   "cell_type": "code",
   "execution_count": 7,
   "id": "54ebcb6a-fc63-4bda-8572-3449a0794b48",
   "metadata": {},
   "outputs": [
    {
     "data": {
      "text/plain": [
       "<div class=\"genre scanme\" id=\"item1\" onclick='playx(\"1Os92edk1L3iu1PNQtgieM\", \"australian classical piano\", this);' preview_url=\"https://p.scdn.co/mp3-preview/ff605ba13e2d6113247040ea1bcc77c33674a1ce\" scan=\"true\" style=\"color: #1ca3c2; top: 19051px; left: 502px; font-size: 100%\" title='e.g. Edvard Grieg \"Lyric Pieces Book I, Op.12: 1. Arietta\"'>australian classical piano<a class=\"navlink\" href=\"engenremap-australianclassicalpiano.html\" onclick=\"event.stopPropagation();\">»</a> </div>"
      ]
     },
     "execution_count": 7,
     "metadata": {},
     "output_type": "execute_result"
    }
   ],
   "source": [
    "genre_elem = canvas.find('div')\n",
    "\n",
    "genre_elem"
   ]
  },
  {
   "cell_type": "code",
   "execution_count": null,
   "id": "d6d7f176-b538-42b7-be2b-00be2395933c",
   "metadata": {},
   "outputs": [],
   "source": []
  },
  {
   "cell_type": "code",
   "execution_count": 8,
   "id": "d6fa0075-cd2a-49ad-ad5e-f832b2814070",
   "metadata": {},
   "outputs": [],
   "source": [
    "#exports\n",
    "genre_elem_to_name = lambda genre_elem: genre_elem.text.replace('» ', '')"
   ]
  },
  {
   "cell_type": "code",
   "execution_count": 9,
   "id": "645938a8-404b-46a2-8508-503ea78dbe87",
   "metadata": {},
   "outputs": [
    {
     "data": {
      "text/plain": [
       "'australian classical piano'"
      ]
     },
     "execution_count": 9,
     "metadata": {},
     "output_type": "execute_result"
    }
   ],
   "source": [
    "genre_elem_to_name(genre_elem)"
   ]
  },
  {
   "cell_type": "code",
   "execution_count": null,
   "id": "69c5495c-7986-4a92-9261-ced94900f817",
   "metadata": {},
   "outputs": [],
   "source": []
  },
  {
   "cell_type": "code",
   "execution_count": 10,
   "id": "5a21d672-e739-4842-9f10-8d74d50272b6",
   "metadata": {},
   "outputs": [
    {
     "data": {
      "text/plain": [
       "{'color': '#1ca3c2', 'top': '19051', 'left': '502', 'font-size': '100%'}"
      ]
     },
     "execution_count": 10,
     "metadata": {},
     "output_type": "execute_result"
    }
   ],
   "source": [
    "genre_style_elems = extract_style_elems(genre_elem)\n",
    "\n",
    "genre_style_elems"
   ]
  },
  {
   "cell_type": "code",
   "execution_count": null,
   "id": "4aa28008-76e7-426d-ae3d-fe1cf4973d2b",
   "metadata": {},
   "outputs": [],
   "source": []
  },
  {
   "cell_type": "code",
   "execution_count": 11,
   "id": "5e65fb01-b1a2-4732-a53e-c46747a13137",
   "metadata": {},
   "outputs": [],
   "source": [
    "#exports\n",
    "def get_genre_xy(genre_style_elems, canvas_width, canvas_height):\n",
    "    x = int(genre_style_elems['left'].replace('px', ''))\n",
    "    y = canvas_height - int(genre_style_elems['top'].replace('px', ''))\n",
    "\n",
    "    return x, y"
   ]
  },
  {
   "cell_type": "code",
   "execution_count": 12,
   "id": "d92fe15c-4957-44a9-93ab-28382481f4c3",
   "metadata": {},
   "outputs": [
    {
     "data": {
      "text/plain": [
       "(502, 615)"
      ]
     },
     "execution_count": 12,
     "metadata": {},
     "output_type": "execute_result"
    }
   ],
   "source": [
    "x, y = get_genre_xy(genre_style_elems, canvas_width, canvas_height)\n",
    "\n",
    "x, y"
   ]
  },
  {
   "cell_type": "code",
   "execution_count": null,
   "id": "8da32b39-7a90-4ef0-98f1-e41109068586",
   "metadata": {},
   "outputs": [],
   "source": []
  },
  {
   "cell_type": "code",
   "execution_count": 22,
   "id": "766778ff-1082-41ab-93c0-c7e504630243",
   "metadata": {},
   "outputs": [],
   "source": [
    "#exports\n",
    "def extract_genre_attrs(genre_elem, canvas_width, canvas_height):\n",
    "    genre_attrs = {}\n",
    "\n",
    "    genre_style_elems = extract_style_elems(genre_elem)\n",
    "\n",
    "    genre_attrs['genre'] = genre_elem_to_name(genre_elem)\n",
    "    genre_attrs['x'], genre_attrs['y'] = get_genre_xy(genre_style_elems, canvas_width, canvas_height)\n",
    "    genre_attrs['hex_colour'] = genre_style_elems['color']\n",
    "    \n",
    "    return genre_attrs"
   ]
  },
  {
   "cell_type": "code",
   "execution_count": 23,
   "id": "a8827e4b-1bbc-4dca-8b79-7d1e21f34384",
   "metadata": {},
   "outputs": [
    {
     "data": {
      "text/plain": [
       "{'genre': 'australian classical piano',\n",
       " 'x': 502,\n",
       " 'y': 615,\n",
       " 'hex_colour': '#1ca3c2'}"
      ]
     },
     "execution_count": 23,
     "metadata": {},
     "output_type": "execute_result"
    }
   ],
   "source": [
    "genre_attrs = extract_genre_attrs(genre_elem, canvas_width, canvas_height)\n",
    "\n",
    "genre_attrs"
   ]
  },
  {
   "cell_type": "code",
   "execution_count": null,
   "id": "9f0cc57e-4a60-4030-9e39-34e7e3720d72",
   "metadata": {},
   "outputs": [],
   "source": []
  },
  {
   "cell_type": "code",
   "execution_count": 24,
   "id": "7cf7aac7-1833-4eaf-adb5-d47eeacd6f6b",
   "metadata": {},
   "outputs": [],
   "source": [
    "#exports\n",
    "def get_df_genre_attrs(everynoise_url='https://everynoise.com/'):\n",
    "    canvas = get_every_noise_canvas(everynoise_url=everynoise_url)\n",
    "    canvas_height, canvas_width = extract_canvas_height_width(canvas)\n",
    "\n",
    "    genre_elems = canvas.find_all('div')\n",
    "    all_genre_attrs = []\n",
    "\n",
    "    for genre_elem in genre_elems:\n",
    "        genre_attrs = extract_genre_attrs(genre_elem, canvas_width, canvas_height)\n",
    "        all_genre_attrs += [genre_attrs]\n",
    "        \n",
    "    df_genre_attrs = pd.DataFrame(all_genre_attrs)\n",
    "    \n",
    "    return df_genre_attrs"
   ]
  },
  {
   "cell_type": "code",
   "execution_count": 25,
   "id": "044905d9-9dbd-4bbe-a461-c916f722bded",
   "metadata": {},
   "outputs": [
    {
     "data": {
      "text/html": [
       "<div>\n",
       "<style scoped>\n",
       "    .dataframe tbody tr th:only-of-type {\n",
       "        vertical-align: middle;\n",
       "    }\n",
       "\n",
       "    .dataframe tbody tr th {\n",
       "        vertical-align: top;\n",
       "    }\n",
       "\n",
       "    .dataframe thead th {\n",
       "        text-align: right;\n",
       "    }\n",
       "</style>\n",
       "<table border=\"1\" class=\"dataframe\">\n",
       "  <thead>\n",
       "    <tr style=\"text-align: right;\">\n",
       "      <th></th>\n",
       "      <th>genre</th>\n",
       "      <th>x</th>\n",
       "      <th>y</th>\n",
       "      <th>hex_colour</th>\n",
       "    </tr>\n",
       "  </thead>\n",
       "  <tbody>\n",
       "    <tr>\n",
       "      <th>0</th>\n",
       "      <td>australian classical piano</td>\n",
       "      <td>502</td>\n",
       "      <td>615</td>\n",
       "      <td>#1ca3c2</td>\n",
       "    </tr>\n",
       "    <tr>\n",
       "      <th>1</th>\n",
       "      <td>piano blues</td>\n",
       "      <td>911</td>\n",
       "      <td>3891</td>\n",
       "      <td>#66882d</td>\n",
       "    </tr>\n",
       "    <tr>\n",
       "      <th>2</th>\n",
       "      <td>histoire pour enfants</td>\n",
       "      <td>1153</td>\n",
       "      <td>5673</td>\n",
       "      <td>#568608</td>\n",
       "    </tr>\n",
       "    <tr>\n",
       "      <th>3</th>\n",
       "      <td>dalarna indie</td>\n",
       "      <td>401</td>\n",
       "      <td>10634</td>\n",
       "      <td>#a77e17</td>\n",
       "    </tr>\n",
       "    <tr>\n",
       "      <th>4</th>\n",
       "      <td>cante alentejano</td>\n",
       "      <td>615</td>\n",
       "      <td>1881</td>\n",
       "      <td>#399c5d</td>\n",
       "    </tr>\n",
       "  </tbody>\n",
       "</table>\n",
       "</div>"
      ],
      "text/plain": [
       "                        genre     x      y hex_colour\n",
       "0  australian classical piano   502    615    #1ca3c2\n",
       "1                 piano blues   911   3891    #66882d\n",
       "2       histoire pour enfants  1153   5673    #568608\n",
       "3               dalarna indie   401  10634    #a77e17\n",
       "4            cante alentejano   615   1881    #399c5d"
      ]
     },
     "execution_count": 25,
     "metadata": {},
     "output_type": "execute_result"
    }
   ],
   "source": [
    "df_genre_attrs = get_df_genre_attrs()\n",
    "\n",
    "df_genre_attrs.head()"
   ]
  },
  {
   "cell_type": "code",
   "execution_count": null,
   "id": "0fe81359-bad3-49f8-9d99-1082bfba5a97",
   "metadata": {},
   "outputs": [],
   "source": []
  },
  {
   "cell_type": "code",
   "execution_count": 26,
   "id": "0357bef8-2afd-4f7d-85ab-66d6d07ee68b",
   "metadata": {},
   "outputs": [],
   "source": [
    "#exports\n",
    "app = typer.Typer()"
   ]
  },
  {
   "cell_type": "code",
   "execution_count": null,
   "id": "f81e6f28-e9b5-4254-a827-d3bcd7fa45c8",
   "metadata": {},
   "outputs": [],
   "source": []
  },
  {
   "cell_type": "code",
   "execution_count": 27,
   "id": "24adad09-22a3-4043-beae-0cdf8d6930d8",
   "metadata": {},
   "outputs": [],
   "source": [
    "#exports\n",
    "@app.command()\n",
    "def download_genre_attrs(fp='data/genre_attrs.csv'):\n",
    "    # TODO if dir does not exist then create it\n",
    "    df_genre_attrs = get_df_genre_attrs()\n",
    "    df_genre_attrs.to_csv(fp, index=False)\n",
    "    \n",
    "    return"
   ]
  },
  {
   "cell_type": "code",
   "execution_count": 28,
   "id": "149d0d27-1e89-42e2-b507-d1a608fa0680",
   "metadata": {},
   "outputs": [],
   "source": [
    "fp = '../data/genre_attrs.csv'\n",
    "\n",
    "download_genre_attrs(fp)"
   ]
  },
  {
   "cell_type": "code",
   "execution_count": null,
   "id": "256b1631-cd17-4c8c-8b3b-7b5c88753f9c",
   "metadata": {},
   "outputs": [],
   "source": []
  },
  {
   "cell_type": "code",
   "execution_count": 29,
   "id": "b71b71f2-52eb-4c7d-a444-bc172f735d11",
   "metadata": {},
   "outputs": [],
   "source": [
    "#exports\n",
    "if __name__ == '__main__' and '__file__' in globals():\n",
    "    app()"
   ]
  },
  {
   "cell_type": "code",
   "execution_count": null,
   "id": "2e59f2f1-417f-4afb-9a91-5f59b7e64eb8",
   "metadata": {},
   "outputs": [],
   "source": []
  },
  {
   "cell_type": "code",
   "execution_count": 30,
   "id": "ce673826-f8fe-4e3d-ae2c-5f58526a31dc",
   "metadata": {},
   "outputs": [
    {
     "name": "stdout",
     "output_type": "stream",
     "text": [
      "Converted 01-library-gen.ipynb.\n"
     ]
    }
   ],
   "source": [
    "#hide\n",
    "from nbdev.export import notebook2script\n",
    "notebook2script('01-library-gen.ipynb')"
   ]
  }
 ],
 "metadata": {
  "kernelspec": {
   "display_name": "EveryNoise",
   "language": "python",
   "name": "everynoise"
  },
  "language_info": {
   "codemirror_mode": {
    "name": "ipython",
    "version": 3
   },
   "file_extension": ".py",
   "mimetype": "text/x-python",
   "name": "python",
   "nbconvert_exporter": "python",
   "pygments_lexer": "ipython3",
   "version": "3.9.4"
  }
 },
 "nbformat": 4,
 "nbformat_minor": 5
}
