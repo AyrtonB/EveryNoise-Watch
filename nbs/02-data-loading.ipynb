{
 "cells": [
  {
   "cell_type": "code",
   "execution_count": null,
   "id": "532cbc08-0125-40a8-a39b-5e43f0344370",
   "metadata": {},
   "outputs": [],
   "source": []
  },
  {
   "cell_type": "code",
   "execution_count": 2,
   "id": "59242a35-84f4-4159-9141-ed2a167d9c81",
   "metadata": {},
   "outputs": [],
   "source": [
    "# Imports\n",
    "import pandas as pd\n",
    "import datapackage\n",
    "\n",
    "# Data Retrieval\n",
    "url = 'https://raw.githubusercontent.com/AyrtonB/EveryNoise-Watch/main/data/datapackage.json'\n",
    "dp = datapackage.Package(url)\n",
    "\n",
    "# DataFrame Loading\n",
    "df_genre_attrs = pd.DataFrame(dp.resources[0].read(keyed=True))\n",
    "\n",
    "df_genre_attrs.head()"
   ]
  },
  {
   "cell_type": "code",
   "execution_count": null,
   "id": "cd99a649-5705-49dc-9cbe-da74997e3e4b",
   "metadata": {},
   "outputs": [],
   "source": []
  },
  {
   "cell_type": "code",
   "execution_count": 7,
   "id": "0ccdf788-e9d4-43cb-b370-bdcd3a5cb493",
   "metadata": {},
   "outputs": [
    {
     "data": {
      "text/plain": [
       "'This dataset is downloaded from everynoise.com and expresses Spotify genres across 5 dimensions, primarily heavy/light and organic/mechanic. Glenn McDonald (Senior Software Engineer at Spotify) is the creator of EnergyNoise, this dataset has been derived from his work.'"
      ]
     },
     "execution_count": 7,
     "metadata": {},
     "output_type": "execute_result"
    }
   ],
   "source": [
    "url = 'https://raw.githubusercontent.com/AyrtonB/EveryNoise-Watch/main/data/datapackage.json'\n",
    "dp = datapackage.Package(url)\n",
    "\n",
    "dp.descriptor['description']"
   ]
  },
  {
   "cell_type": "code",
   "execution_count": 34,
   "id": "dd5d9b23-6a8b-483b-80e7-b5b25ab20ea3",
   "metadata": {},
   "outputs": [
    {
     "name": "stdout",
     "output_type": "stream",
     "text": [
      "Collecting tabulate\n",
      "  Using cached tabulate-0.8.9-py3-none-any.whl (25 kB)\n",
      "Installing collected packages: tabulate\n",
      "Successfully installed tabulate-0.8.9\n"
     ]
    }
   ],
   "source": [
    "!pip install tabulate"
   ]
  },
  {
   "cell_type": "code",
   "execution_count": 36,
   "id": "21b088ae-ce55-4c0a-afe5-b0e03ee8dff6",
   "metadata": {},
   "outputs": [
    {
     "name": "stdout",
     "output_type": "stream",
     "text": [
      "| genre                      |    x |    y |   r |   g |   b |\n",
      "|:---------------------------|-----:|-----:|----:|----:|----:|\n",
      "| piano blues                |  696 | 3870 | 102 | 136 |  45 |\n",
      "| australian classical piano | 1105 |  613 |  28 | 163 | 194 |\n",
      "| histoire pour enfants      |  454 | 5661 |  86 | 134 |   8 |\n",
      "| dutch musical              | 1067 | 6080 | 118 | 140 |  20 |\n",
      "| blues                      |  600 | 3971 | 105 | 134 |  32 |\n"
     ]
    }
   ],
   "source": [
    "df_genre_attrs = pd.DataFrame(dp.resources[0].read(keyed=True))\n",
    "\n",
    "print(df_genre_attrs.head().to_markdown(index=False))"
   ]
  },
  {
   "cell_type": "code",
   "execution_count": null,
   "id": "6e9dff92-7a10-41eb-bcd9-c444211b8716",
   "metadata": {},
   "outputs": [],
   "source": []
  },
  {
   "cell_type": "code",
   "execution_count": null,
   "id": "a44f86b2-5309-4794-8c53-d79b428592ba",
   "metadata": {},
   "outputs": [],
   "source": []
  }
 ],
 "metadata": {
  "kernelspec": {
   "display_name": "EveryNoise",
   "language": "python",
   "name": "everynoise"
  },
  "language_info": {
   "codemirror_mode": {
    "name": "ipython",
    "version": 3
   },
   "file_extension": ".py",
   "mimetype": "text/x-python",
   "name": "python",
   "nbconvert_exporter": "python",
   "pygments_lexer": "ipython3",
   "version": "3.9.4"
  }
 },
 "nbformat": 4,
 "nbformat_minor": 5
}
