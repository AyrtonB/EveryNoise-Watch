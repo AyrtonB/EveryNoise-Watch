{
 "cells": [
  {
   "cell_type": "code",
   "execution_count": null,
   "id": "532cbc08-0125-40a8-a39b-5e43f0344370",
   "metadata": {},
   "outputs": [],
   "source": []
  },
  {
   "cell_type": "code",
   "execution_count": 2,
   "id": "59242a35-84f4-4159-9141-ed2a167d9c81",
   "metadata": {},
   "outputs": [],
   "source": [
    "# Imports\n",
    "import pandas as pd\n",
    "import datapackage\n",
    "\n",
    "# Data Retrieval\n",
    "url = 'https://raw.githubusercontent.com/AyrtonB/EveryNoise-Watch/main/data/datapackage.json'\n",
    "dp = datapackage.Package(url)\n",
    "\n",
    "# DataFrame Loading\n",
    "df_genre_attrs = pd.DataFrame(dp.resources[0].read(keyed=True))\n",
    "\n",
    "df_genre_attrs.head()"
   ]
  },
  {
   "cell_type": "code",
   "execution_count": null,
   "id": "cd99a649-5705-49dc-9cbe-da74997e3e4b",
   "metadata": {},
   "outputs": [],
   "source": []
  },
  {
   "cell_type": "code",
   "execution_count": 7,
   "id": "0ccdf788-e9d4-43cb-b370-bdcd3a5cb493",
   "metadata": {},
   "outputs": [
    {
     "data": {
      "text/plain": [
       "'This dataset is downloaded from everynoise.com and expresses Spotify genres across 5 dimensions, primarily heavy/light and organic/mechanic. Glenn McDonald (Senior Software Engineer at Spotify) is the creator of EnergyNoise, this dataset has been derived from his work.'"
      ]
     },
     "execution_count": 7,
     "metadata": {},
     "output_type": "execute_result"
    }
   ],
   "source": [
    "url = 'https://raw.githubusercontent.com/AyrtonB/EveryNoise-Watch/main/data/datapackage.json'\n",
    "dp = datapackage.Package(url)\n",
    "\n",
    "dp.descriptor['description']"
   ]
  },
  {
   "cell_type": "code",
   "execution_count": null,
   "id": "dd5d9b23-6a8b-483b-80e7-b5b25ab20ea3",
   "metadata": {},
   "outputs": [],
   "source": []
  },
  {
   "cell_type": "code",
   "execution_count": 37,
   "id": "21b088ae-ce55-4c0a-afe5-b0e03ee8dff6",
   "metadata": {},
   "outputs": [
    {
     "data": {
      "text/html": [
       "<div>\n",
       "<style scoped>\n",
       "    .dataframe tbody tr th:only-of-type {\n",
       "        vertical-align: middle;\n",
       "    }\n",
       "\n",
       "    .dataframe tbody tr th {\n",
       "        vertical-align: top;\n",
       "    }\n",
       "\n",
       "    .dataframe thead th {\n",
       "        text-align: right;\n",
       "    }\n",
       "</style>\n",
       "<table border=\"1\" class=\"dataframe\">\n",
       "  <thead>\n",
       "    <tr style=\"text-align: right;\">\n",
       "      <th></th>\n",
       "      <th>genre</th>\n",
       "      <th>x</th>\n",
       "      <th>y</th>\n",
       "      <th>r</th>\n",
       "      <th>g</th>\n",
       "      <th>b</th>\n",
       "    </tr>\n",
       "  </thead>\n",
       "  <tbody>\n",
       "    <tr>\n",
       "      <th>0</th>\n",
       "      <td>piano blues</td>\n",
       "      <td>696</td>\n",
       "      <td>3870</td>\n",
       "      <td>102</td>\n",
       "      <td>136</td>\n",
       "      <td>45</td>\n",
       "    </tr>\n",
       "    <tr>\n",
       "      <th>1</th>\n",
       "      <td>australian classical piano</td>\n",
       "      <td>1105</td>\n",
       "      <td>613</td>\n",
       "      <td>28</td>\n",
       "      <td>163</td>\n",
       "      <td>194</td>\n",
       "    </tr>\n",
       "    <tr>\n",
       "      <th>2</th>\n",
       "      <td>histoire pour enfants</td>\n",
       "      <td>454</td>\n",
       "      <td>5661</td>\n",
       "      <td>86</td>\n",
       "      <td>134</td>\n",
       "      <td>8</td>\n",
       "    </tr>\n",
       "    <tr>\n",
       "      <th>3</th>\n",
       "      <td>dutch musical</td>\n",
       "      <td>1067</td>\n",
       "      <td>6080</td>\n",
       "      <td>118</td>\n",
       "      <td>140</td>\n",
       "      <td>20</td>\n",
       "    </tr>\n",
       "    <tr>\n",
       "      <th>4</th>\n",
       "      <td>blues</td>\n",
       "      <td>600</td>\n",
       "      <td>3971</td>\n",
       "      <td>105</td>\n",
       "      <td>134</td>\n",
       "      <td>32</td>\n",
       "    </tr>\n",
       "  </tbody>\n",
       "</table>\n",
       "</div>"
      ],
      "text/plain": [
       "                        genre     x     y    r    g    b\n",
       "0                 piano blues   696  3870  102  136   45\n",
       "1  australian classical piano  1105   613   28  163  194\n",
       "2       histoire pour enfants   454  5661   86  134    8\n",
       "3               dutch musical  1067  6080  118  140   20\n",
       "4                       blues   600  3971  105  134   32"
      ]
     },
     "execution_count": 37,
     "metadata": {},
     "output_type": "execute_result"
    }
   ],
   "source": [
    "df_genre_attrs = pd.DataFrame(dp.resources[0].read(keyed=True))\n",
    "\n",
    "df_genre_attrs.head()"
   ]
  },
  {
   "cell_type": "code",
   "execution_count": null,
   "id": "6e9dff92-7a10-41eb-bcd9-c444211b8716",
   "metadata": {},
   "outputs": [],
   "source": []
  },
  {
   "cell_type": "code",
   "execution_count": null,
   "id": "a44f86b2-5309-4794-8c53-d79b428592ba",
   "metadata": {},
   "outputs": [],
   "source": []
  }
 ],
 "metadata": {
  "kernelspec": {
   "display_name": "EveryNoise",
   "language": "python",
   "name": "everynoise"
  },
  "language_info": {
   "codemirror_mode": {
    "name": "ipython",
    "version": 3
   },
   "file_extension": ".py",
   "mimetype": "text/x-python",
   "name": "python",
   "nbconvert_exporter": "python",
   "pygments_lexer": "ipython3",
   "version": "3.9.4"
  }
 },
 "nbformat": 4,
 "nbformat_minor": 5
}
