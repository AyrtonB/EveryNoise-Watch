{
 "cells": [
  {
   "cell_type": "code",
   "execution_count": null,
   "id": "532cbc08-0125-40a8-a39b-5e43f0344370",
   "metadata": {},
   "outputs": [],
   "source": []
  },
  {
   "cell_type": "code",
   "execution_count": 1,
   "id": "29c158c5-bc34-44fe-afd8-05eabce3759c",
   "metadata": {},
   "outputs": [],
   "source": [
    "import pandas as pd\n",
    "import datapackage\n",
    "\n",
    "import altair as alt"
   ]
  },
  {
   "cell_type": "code",
   "execution_count": null,
   "id": "6a516170-c315-46bc-9c05-e924ba67dbcd",
   "metadata": {},
   "outputs": [],
   "source": []
  },
  {
   "cell_type": "code",
   "execution_count": 6,
   "id": "59242a35-84f4-4159-9141-ed2a167d9c81",
   "metadata": {},
   "outputs": [
    {
     "data": {
      "text/plain": [
       "<datapackage.package.Package at 0x1f526215910>"
      ]
     },
     "execution_count": 6,
     "metadata": {},
     "output_type": "execute_result"
    }
   ],
   "source": [
    "url = 'https://raw.githubusercontent.com/AyrtonB/EveryNoise-Watch/main/data/datapackage.json'\n",
    "dp = datapackage.Package(url)\n",
    "\n",
    "dp"
   ]
  },
  {
   "cell_type": "code",
   "execution_count": 7,
   "id": "5f4d0ab5-a9a6-47a3-bc5e-5a8bd9049661",
   "metadata": {},
   "outputs": [
    {
     "ename": "CastError",
     "evalue": "Row length 7 doesn't match fields count 6 for row \"2\"",
     "output_type": "error",
     "traceback": [
      "\u001b[1;31m---------------------------------------------------------------------------\u001b[0m",
      "\u001b[1;31mCastError\u001b[0m                                 Traceback (most recent call last)",
      "\u001b[1;32m<ipython-input-7-ef6cb157622c>\u001b[0m in \u001b[0;36m<module>\u001b[1;34m\u001b[0m\n\u001b[1;32m----> 1\u001b[1;33m \u001b[0mdp\u001b[0m\u001b[1;33m.\u001b[0m\u001b[0mresources\u001b[0m\u001b[1;33m[\u001b[0m\u001b[1;36m0\u001b[0m\u001b[1;33m]\u001b[0m\u001b[1;33m.\u001b[0m\u001b[0mread\u001b[0m\u001b[1;33m(\u001b[0m\u001b[0mkeyed\u001b[0m\u001b[1;33m=\u001b[0m\u001b[1;32mTrue\u001b[0m\u001b[1;33m)\u001b[0m\u001b[1;33m\u001b[0m\u001b[1;33m\u001b[0m\u001b[0m\n\u001b[0m",
      "\u001b[1;32m~\\anaconda3\\envs\\EveryNoise\\lib\\site-packages\\datapackage\\resource.py\u001b[0m in \u001b[0;36mread\u001b[1;34m(self, integrity, relations, foreign_keys_values, **options)\u001b[0m\n\u001b[0;32m    381\u001b[0m             \u001b[0mrelations\u001b[0m \u001b[1;33m=\u001b[0m \u001b[0mself\u001b[0m\u001b[1;33m.\u001b[0m\u001b[0m__get_relations\u001b[0m\u001b[1;33m(\u001b[0m\u001b[1;33m)\u001b[0m\u001b[1;33m\u001b[0m\u001b[1;33m\u001b[0m\u001b[0m\n\u001b[0;32m    382\u001b[0m \u001b[1;33m\u001b[0m\u001b[0m\n\u001b[1;32m--> 383\u001b[1;33m         return self.__get_table().read(\n\u001b[0m\u001b[0;32m    384\u001b[0m             \u001b[0mintegrity\u001b[0m\u001b[1;33m=\u001b[0m\u001b[0mintegrity\u001b[0m\u001b[1;33m,\u001b[0m \u001b[0mrelations\u001b[0m\u001b[1;33m=\u001b[0m\u001b[0mrelations\u001b[0m\u001b[1;33m,\u001b[0m\u001b[1;33m\u001b[0m\u001b[1;33m\u001b[0m\u001b[0m\n\u001b[0;32m    385\u001b[0m             foreign_keys_values=foreign_keys_values, **options)\n",
      "\u001b[1;32m~\\anaconda3\\envs\\EveryNoise\\lib\\site-packages\\tableschema\\table.py\u001b[0m in \u001b[0;36mread\u001b[1;34m(self, keyed, extended, cast, limit, integrity, relations, foreign_keys_values, exc_handler)\u001b[0m\n\u001b[0;32m    351\u001b[0m             \u001b[0mrelations\u001b[0m\u001b[1;33m=\u001b[0m\u001b[0mrelations\u001b[0m\u001b[1;33m,\u001b[0m \u001b[0mforeign_keys_values\u001b[0m\u001b[1;33m=\u001b[0m\u001b[0mforeign_keys_values\u001b[0m\u001b[1;33m,\u001b[0m\u001b[1;33m\u001b[0m\u001b[1;33m\u001b[0m\u001b[0m\n\u001b[0;32m    352\u001b[0m             exc_handler=exc_handler)\n\u001b[1;32m--> 353\u001b[1;33m         \u001b[1;32mfor\u001b[0m \u001b[0mcount\u001b[0m\u001b[1;33m,\u001b[0m \u001b[0mrow\u001b[0m \u001b[1;32min\u001b[0m \u001b[0menumerate\u001b[0m\u001b[1;33m(\u001b[0m\u001b[0mrows\u001b[0m\u001b[1;33m,\u001b[0m \u001b[0mstart\u001b[0m\u001b[1;33m=\u001b[0m\u001b[1;36m1\u001b[0m\u001b[1;33m)\u001b[0m\u001b[1;33m:\u001b[0m\u001b[1;33m\u001b[0m\u001b[1;33m\u001b[0m\u001b[0m\n\u001b[0m\u001b[0;32m    354\u001b[0m             \u001b[0mresult\u001b[0m\u001b[1;33m.\u001b[0m\u001b[0mappend\u001b[0m\u001b[1;33m(\u001b[0m\u001b[0mrow\u001b[0m\u001b[1;33m)\u001b[0m\u001b[1;33m\u001b[0m\u001b[1;33m\u001b[0m\u001b[0m\n\u001b[0;32m    355\u001b[0m             \u001b[1;32mif\u001b[0m \u001b[0mcount\u001b[0m \u001b[1;33m==\u001b[0m \u001b[0mlimit\u001b[0m\u001b[1;33m:\u001b[0m\u001b[1;33m\u001b[0m\u001b[1;33m\u001b[0m\u001b[0m\n",
      "\u001b[1;32m~\\anaconda3\\envs\\EveryNoise\\lib\\site-packages\\tableschema\\table.py\u001b[0m in \u001b[0;36miter\u001b[1;34m(self, keyed, extended, cast, integrity, relations, foreign_keys_values, exc_handler)\u001b[0m\n\u001b[0;32m    213\u001b[0m             iterator = self.__apply_processors(\n\u001b[0;32m    214\u001b[0m                 iterator, cast=cast, exc_handler=exc_handler)\n\u001b[1;32m--> 215\u001b[1;33m             \u001b[1;32mfor\u001b[0m \u001b[0mrow_number\u001b[0m\u001b[1;33m,\u001b[0m \u001b[0mheaders\u001b[0m\u001b[1;33m,\u001b[0m \u001b[0mrow\u001b[0m \u001b[1;32min\u001b[0m \u001b[0miterator\u001b[0m\u001b[1;33m:\u001b[0m\u001b[1;33m\u001b[0m\u001b[1;33m\u001b[0m\u001b[0m\n\u001b[0m\u001b[0;32m    216\u001b[0m \u001b[1;33m\u001b[0m\u001b[0m\n\u001b[0;32m    217\u001b[0m                 \u001b[1;31m# Get headers\u001b[0m\u001b[1;33m\u001b[0m\u001b[1;33m\u001b[0m\u001b[1;33m\u001b[0m\u001b[0m\n",
      "\u001b[1;32m~\\anaconda3\\envs\\EveryNoise\\lib\\site-packages\\tableschema\\table.py\u001b[0m in \u001b[0;36mbuiltin_processor\u001b[1;34m(extended_rows)\u001b[0m\n\u001b[0;32m    506\u001b[0m             \u001b[1;32mfor\u001b[0m \u001b[0mrow_number\u001b[0m\u001b[1;33m,\u001b[0m \u001b[0mheaders\u001b[0m\u001b[1;33m,\u001b[0m \u001b[0mrow\u001b[0m \u001b[1;32min\u001b[0m \u001b[0mextended_rows\u001b[0m\u001b[1;33m:\u001b[0m\u001b[1;33m\u001b[0m\u001b[1;33m\u001b[0m\u001b[0m\n\u001b[0;32m    507\u001b[0m                 \u001b[1;32mif\u001b[0m \u001b[0mself\u001b[0m\u001b[1;33m.\u001b[0m\u001b[0m__schema\u001b[0m \u001b[1;32mand\u001b[0m \u001b[0mcast\u001b[0m\u001b[1;33m:\u001b[0m\u001b[1;33m\u001b[0m\u001b[1;33m\u001b[0m\u001b[0m\n\u001b[1;32m--> 508\u001b[1;33m                     row = self.__schema.cast_row(\n\u001b[0m\u001b[0;32m    509\u001b[0m                         row, row_number=row_number, exc_handler=exc_handler)\n\u001b[0;32m    510\u001b[0m                 \u001b[1;32myield\u001b[0m \u001b[1;33m(\u001b[0m\u001b[0mrow_number\u001b[0m\u001b[1;33m,\u001b[0m \u001b[0mheaders\u001b[0m\u001b[1;33m,\u001b[0m \u001b[0mrow\u001b[0m\u001b[1;33m)\u001b[0m\u001b[1;33m\u001b[0m\u001b[1;33m\u001b[0m\u001b[0m\n",
      "\u001b[1;32m~\\anaconda3\\envs\\EveryNoise\\lib\\site-packages\\tableschema\\schema.py\u001b[0m in \u001b[0;36mcast_row\u001b[1;34m(self, row, fail_fast, row_number, exc_handler)\u001b[0m\n\u001b[0;32m    273\u001b[0m                      value)\n\u001b[0;32m    274\u001b[0m                     for (i, value) in enumerate(row))\n\u001b[1;32m--> 275\u001b[1;33m             exc_handler(exc, row_number=row_number, row_data=keyed_row,\n\u001b[0m\u001b[0;32m    276\u001b[0m                         error_data=keyed_row)\n\u001b[0;32m    277\u001b[0m \u001b[1;33m\u001b[0m\u001b[0m\n",
      "\u001b[1;32m~\\anaconda3\\envs\\EveryNoise\\lib\\site-packages\\tableschema\\helpers.py\u001b[0m in \u001b[0;36mdefault_exc_handler\u001b[1;34m(exc, *args, **kwargs)\u001b[0m\n\u001b[0;32m     88\u001b[0m     \"\"\"Default exception handler function: raise exc, ignore other arguments.\n\u001b[0;32m     89\u001b[0m     \"\"\"\n\u001b[1;32m---> 90\u001b[1;33m     \u001b[1;32mraise\u001b[0m \u001b[0mexc\u001b[0m\u001b[1;33m\u001b[0m\u001b[1;33m\u001b[0m\u001b[0m\n\u001b[0m\u001b[0;32m     91\u001b[0m \u001b[1;33m\u001b[0m\u001b[0m\n\u001b[0;32m     92\u001b[0m \u001b[1;33m\u001b[0m\u001b[0m\n",
      "\u001b[1;31mCastError\u001b[0m: Row length 7 doesn't match fields count 6 for row \"2\""
     ]
    }
   ],
   "source": [
    "dp.resources[0].read(keyed=True)"
   ]
  },
  {
   "cell_type": "code",
   "execution_count": 4,
   "id": "fff2cb03-ed66-4215-9dd5-511bc56f5f83",
   "metadata": {
    "tags": []
   },
   "outputs": [
    {
     "ename": "AttributeError",
     "evalue": "'bool' object has no attribute 'name'",
     "output_type": "error",
     "traceback": [
      "\u001b[1;31m---------------------------------------------------------------------------\u001b[0m",
      "\u001b[1;31mAttributeError\u001b[0m                            Traceback (most recent call last)",
      "\u001b[1;32m<ipython-input-4-1e4cb5ecf713>\u001b[0m in \u001b[0;36m<module>\u001b[1;34m\u001b[0m\n\u001b[1;32m----> 1\u001b[1;33m \u001b[0mdf_genre_attrs\u001b[0m \u001b[1;33m=\u001b[0m \u001b[0mpd\u001b[0m\u001b[1;33m.\u001b[0m\u001b[0mDataFrame\u001b[0m\u001b[1;33m(\u001b[0m\u001b[0mdp\u001b[0m\u001b[1;33m.\u001b[0m\u001b[0mresources\u001b[0m\u001b[1;33m[\u001b[0m\u001b[1;36m0\u001b[0m\u001b[1;33m]\u001b[0m\u001b[1;33m.\u001b[0m\u001b[0mread\u001b[0m\u001b[1;33m(\u001b[0m\u001b[0mkeyed\u001b[0m\u001b[1;33m=\u001b[0m\u001b[1;32mTrue\u001b[0m\u001b[1;33m)\u001b[0m\u001b[1;33m)\u001b[0m\u001b[1;33m\u001b[0m\u001b[1;33m\u001b[0m\u001b[0m\n\u001b[0m\u001b[0;32m      2\u001b[0m \u001b[1;33m\u001b[0m\u001b[0m\n\u001b[0;32m      3\u001b[0m \u001b[0mdf_genre_attrs\u001b[0m\u001b[1;33m.\u001b[0m\u001b[0mhead\u001b[0m\u001b[1;33m(\u001b[0m\u001b[1;33m)\u001b[0m\u001b[1;33m\u001b[0m\u001b[1;33m\u001b[0m\u001b[0m\n",
      "\u001b[1;32m~\\anaconda3\\envs\\EveryNoise\\lib\\site-packages\\datapackage\\resource.py\u001b[0m in \u001b[0;36mread\u001b[1;34m(self, integrity, relations, foreign_keys_values, **options)\u001b[0m\n\u001b[0;32m    381\u001b[0m             \u001b[0mrelations\u001b[0m \u001b[1;33m=\u001b[0m \u001b[0mself\u001b[0m\u001b[1;33m.\u001b[0m\u001b[0m__get_relations\u001b[0m\u001b[1;33m(\u001b[0m\u001b[1;33m)\u001b[0m\u001b[1;33m\u001b[0m\u001b[1;33m\u001b[0m\u001b[0m\n\u001b[0;32m    382\u001b[0m \u001b[1;33m\u001b[0m\u001b[0m\n\u001b[1;32m--> 383\u001b[1;33m         return self.__get_table().read(\n\u001b[0m\u001b[0;32m    384\u001b[0m             \u001b[0mintegrity\u001b[0m\u001b[1;33m=\u001b[0m\u001b[0mintegrity\u001b[0m\u001b[1;33m,\u001b[0m \u001b[0mrelations\u001b[0m\u001b[1;33m=\u001b[0m\u001b[0mrelations\u001b[0m\u001b[1;33m,\u001b[0m\u001b[1;33m\u001b[0m\u001b[1;33m\u001b[0m\u001b[0m\n\u001b[0;32m    385\u001b[0m             foreign_keys_values=foreign_keys_values, **options)\n",
      "\u001b[1;32m~\\anaconda3\\envs\\EveryNoise\\lib\\site-packages\\tableschema\\table.py\u001b[0m in \u001b[0;36mread\u001b[1;34m(self, keyed, extended, cast, limit, integrity, relations, foreign_keys_values, exc_handler)\u001b[0m\n\u001b[0;32m    351\u001b[0m             \u001b[0mrelations\u001b[0m\u001b[1;33m=\u001b[0m\u001b[0mrelations\u001b[0m\u001b[1;33m,\u001b[0m \u001b[0mforeign_keys_values\u001b[0m\u001b[1;33m=\u001b[0m\u001b[0mforeign_keys_values\u001b[0m\u001b[1;33m,\u001b[0m\u001b[1;33m\u001b[0m\u001b[1;33m\u001b[0m\u001b[0m\n\u001b[0;32m    352\u001b[0m             exc_handler=exc_handler)\n\u001b[1;32m--> 353\u001b[1;33m         \u001b[1;32mfor\u001b[0m \u001b[0mcount\u001b[0m\u001b[1;33m,\u001b[0m \u001b[0mrow\u001b[0m \u001b[1;32min\u001b[0m \u001b[0menumerate\u001b[0m\u001b[1;33m(\u001b[0m\u001b[0mrows\u001b[0m\u001b[1;33m,\u001b[0m \u001b[0mstart\u001b[0m\u001b[1;33m=\u001b[0m\u001b[1;36m1\u001b[0m\u001b[1;33m)\u001b[0m\u001b[1;33m:\u001b[0m\u001b[1;33m\u001b[0m\u001b[1;33m\u001b[0m\u001b[0m\n\u001b[0m\u001b[0;32m    354\u001b[0m             \u001b[0mresult\u001b[0m\u001b[1;33m.\u001b[0m\u001b[0mappend\u001b[0m\u001b[1;33m(\u001b[0m\u001b[0mrow\u001b[0m\u001b[1;33m)\u001b[0m\u001b[1;33m\u001b[0m\u001b[1;33m\u001b[0m\u001b[0m\n\u001b[0;32m    355\u001b[0m             \u001b[1;32mif\u001b[0m \u001b[0mcount\u001b[0m \u001b[1;33m==\u001b[0m \u001b[0mlimit\u001b[0m\u001b[1;33m:\u001b[0m\u001b[1;33m\u001b[0m\u001b[1;33m\u001b[0m\u001b[0m\n",
      "\u001b[1;32m~\\anaconda3\\envs\\EveryNoise\\lib\\site-packages\\tableschema\\table.py\u001b[0m in \u001b[0;36miter\u001b[1;34m(self, keyed, extended, cast, integrity, relations, foreign_keys_values, exc_handler)\u001b[0m\n\u001b[0;32m    201\u001b[0m             \u001b[0munique_fields_cache\u001b[0m \u001b[1;33m=\u001b[0m \u001b[1;33m{\u001b[0m\u001b[1;33m}\u001b[0m\u001b[1;33m\u001b[0m\u001b[1;33m\u001b[0m\u001b[0m\n\u001b[0;32m    202\u001b[0m             \u001b[1;32mif\u001b[0m \u001b[0mself\u001b[0m\u001b[1;33m.\u001b[0m\u001b[0mschema\u001b[0m\u001b[1;33m:\u001b[0m\u001b[1;33m\u001b[0m\u001b[1;33m\u001b[0m\u001b[0m\n\u001b[1;32m--> 203\u001b[1;33m                 \u001b[0munique_fields_cache\u001b[0m \u001b[1;33m=\u001b[0m \u001b[0m_create_unique_fields_cache\u001b[0m\u001b[1;33m(\u001b[0m\u001b[0mself\u001b[0m\u001b[1;33m.\u001b[0m\u001b[0mschema\u001b[0m\u001b[1;33m)\u001b[0m\u001b[1;33m\u001b[0m\u001b[1;33m\u001b[0m\u001b[0m\n\u001b[0m\u001b[0;32m    204\u001b[0m         \u001b[1;31m# Prepare relation checks\u001b[0m\u001b[1;33m\u001b[0m\u001b[1;33m\u001b[0m\u001b[1;33m\u001b[0m\u001b[0m\n\u001b[0;32m    205\u001b[0m         \u001b[1;32mif\u001b[0m \u001b[0mrelations\u001b[0m \u001b[1;32mand\u001b[0m \u001b[1;32mnot\u001b[0m \u001b[0mforeign_keys_values\u001b[0m\u001b[1;33m:\u001b[0m\u001b[1;33m\u001b[0m\u001b[1;33m\u001b[0m\u001b[0m\n",
      "\u001b[1;32m~\\anaconda3\\envs\\EveryNoise\\lib\\site-packages\\tableschema\\table.py\u001b[0m in \u001b[0;36m_create_unique_fields_cache\u001b[1;34m(schema)\u001b[0m\n\u001b[0;32m    524\u001b[0m     \u001b[1;31m# Unique\u001b[0m\u001b[1;33m\u001b[0m\u001b[1;33m\u001b[0m\u001b[1;33m\u001b[0m\u001b[0m\n\u001b[0;32m    525\u001b[0m     \u001b[1;32mfor\u001b[0m \u001b[0mindex\u001b[0m\u001b[1;33m,\u001b[0m \u001b[0mfield\u001b[0m \u001b[1;32min\u001b[0m \u001b[0menumerate\u001b[0m\u001b[1;33m(\u001b[0m\u001b[0mschema\u001b[0m\u001b[1;33m.\u001b[0m\u001b[0mfields\u001b[0m\u001b[1;33m)\u001b[0m\u001b[1;33m:\u001b[0m\u001b[1;33m\u001b[0m\u001b[1;33m\u001b[0m\u001b[0m\n\u001b[1;32m--> 526\u001b[1;33m         \u001b[1;32mif\u001b[0m \u001b[0mfield\u001b[0m\u001b[1;33m.\u001b[0m\u001b[0mname\u001b[0m \u001b[1;32min\u001b[0m \u001b[0mschema\u001b[0m\u001b[1;33m.\u001b[0m\u001b[0mprimary_key\u001b[0m\u001b[1;33m:\u001b[0m\u001b[1;33m\u001b[0m\u001b[1;33m\u001b[0m\u001b[0m\n\u001b[0m\u001b[0;32m    527\u001b[0m             \u001b[0mprimary_key_indexes\u001b[0m\u001b[1;33m.\u001b[0m\u001b[0mappend\u001b[0m\u001b[1;33m(\u001b[0m\u001b[0mindex\u001b[0m\u001b[1;33m)\u001b[0m\u001b[1;33m\u001b[0m\u001b[1;33m\u001b[0m\u001b[0m\n\u001b[0;32m    528\u001b[0m         \u001b[1;32mif\u001b[0m \u001b[0mfield\u001b[0m\u001b[1;33m.\u001b[0m\u001b[0mconstraints\u001b[0m\u001b[1;33m.\u001b[0m\u001b[0mget\u001b[0m\u001b[1;33m(\u001b[0m\u001b[1;34m'unique'\u001b[0m\u001b[1;33m)\u001b[0m\u001b[1;33m:\u001b[0m\u001b[1;33m\u001b[0m\u001b[1;33m\u001b[0m\u001b[0m\n",
      "\u001b[1;31mAttributeError\u001b[0m: 'bool' object has no attribute 'name'"
     ]
    }
   ],
   "source": [
    "df_genre_attrs = pd.DataFrame(dp.resources[0].read(keyed=True))\n",
    "\n",
    "df_genre_attrs.head()"
   ]
  },
  {
   "cell_type": "code",
   "execution_count": null,
   "id": "cd99a649-5705-49dc-9cbe-da74997e3e4b",
   "metadata": {},
   "outputs": [],
   "source": []
  },
  {
   "cell_type": "code",
   "execution_count": null,
   "id": "0ccdf788-e9d4-43cb-b370-bdcd3a5cb493",
   "metadata": {},
   "outputs": [],
   "source": [
    "dp.descriptor['description']"
   ]
  },
  {
   "cell_type": "code",
   "execution_count": null,
   "id": "dd5d9b23-6a8b-483b-80e7-b5b25ab20ea3",
   "metadata": {},
   "outputs": [],
   "source": []
  },
  {
   "cell_type": "code",
   "execution_count": null,
   "id": "374104df-ba68-4445-b0c4-5ac897221283",
   "metadata": {},
   "outputs": [],
   "source": [
    "df_genre_attrs['rgb_str'] = df_genre_attrs[['r', 'g', 'b']].apply(lambda rgb: f'rgb({rgb.r}, {rgb.g}, {rgb.b})', axis=1)\n",
    "\n",
    "df_genre_attrs['rgb_str'].head()"
   ]
  },
  {
   "cell_type": "code",
   "execution_count": null,
   "id": "b02bb5c8-1512-4cdf-bcdd-bb78055130d9",
   "metadata": {},
   "outputs": [],
   "source": []
  },
  {
   "cell_type": "code",
   "execution_count": null,
   "id": "6e9dff92-7a10-41eb-bcd9-c444211b8716",
   "metadata": {},
   "outputs": [],
   "source": [
    "alt.Chart(\n",
    "    data=df_genre_attrs.sample(5000), \n",
    "    mark='point', \n",
    "    encoding={\n",
    "        'x': {\n",
    "            'field': 'x', \n",
    "            'type':'quantitative'\n",
    "        }, \n",
    "        'y': {\n",
    "            'field': 'y', \n",
    "            'type':'quantitative'\n",
    "        },\n",
    "        \"color\": {\"field\": \"hex_colour\", \"type\": \"nominal\", \"scale\": None},\n",
    "        \"tooltip\": {\"field\": \"genre\", \"type\": \"nominal\"}\n",
    "    }\n",
    ").interactive()"
   ]
  },
  {
   "cell_type": "code",
   "execution_count": null,
   "id": "78fae291-b20d-40cf-a51a-8a04f34771e6",
   "metadata": {},
   "outputs": [],
   "source": []
  }
 ],
 "metadata": {
  "kernelspec": {
   "display_name": "EveryNoise",
   "language": "python",
   "name": "everynoise"
  },
  "language_info": {
   "codemirror_mode": {
    "name": "ipython",
    "version": 3
   },
   "file_extension": ".py",
   "mimetype": "text/x-python",
   "name": "python",
   "nbconvert_exporter": "python",
   "pygments_lexer": "ipython3",
   "version": "3.9.4"
  }
 },
 "nbformat": 4,
 "nbformat_minor": 5
}
