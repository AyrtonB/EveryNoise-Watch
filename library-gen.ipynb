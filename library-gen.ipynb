{
 "cells": [
  {
   "cell_type": "code",
   "execution_count": 1,
   "id": "071d4009-fcbb-4403-a7b7-10fc12f068d3",
   "metadata": {},
   "outputs": [],
   "source": [
    "# default_exp download"
   ]
  },
  {
   "cell_type": "code",
   "execution_count": null,
   "id": "80fd0886-cb4b-46e5-aed9-cdd7271e7416",
   "metadata": {},
   "outputs": [],
   "source": []
  },
  {
   "cell_type": "code",
   "execution_count": 2,
   "id": "132b9881-5986-44e3-ae1e-841fa5f6703e",
   "metadata": {},
   "outputs": [],
   "source": [
    "#exports\n",
    "import pandas as pd\n",
    "import typer\n",
    "import textwrap\n",
    "import requests\n",
    "from bs4 import BeautifulSoup as bs"
   ]
  },
  {
   "cell_type": "code",
   "execution_count": null,
   "id": "80b3d3f8-6506-4777-a7c0-b515070cad36",
   "metadata": {},
   "outputs": [],
   "source": []
  },
  {
   "cell_type": "code",
   "execution_count": 3,
   "id": "edcb581c-8f51-4142-9ed5-55c654dfdbc6",
   "metadata": {},
   "outputs": [],
   "source": [
    "#exports\n",
    "def get_every_noise_canvas(everynoise_url='https://everynoise.com/'):\n",
    "    r = requests.get(everynoise_url)\n",
    "    soup = bs(r.text, features='lxml')\n",
    "    \n",
    "    canvases = soup.find_all('div', attrs={'class': 'canvas'})\n",
    "    assert len(canvases) == 1, ''\n",
    "    canvas = canvases[0]\n",
    "\n",
    "    return canvas"
   ]
  },
  {
   "cell_type": "code",
   "execution_count": 4,
   "id": "110dd4e7-a583-4279-b32d-eb9f53500e3e",
   "metadata": {},
   "outputs": [],
   "source": [
    "canvas = get_every_noise_canvas()"
   ]
  },
  {
   "cell_type": "code",
   "execution_count": null,
   "id": "03cde15a-bde9-4fa2-a782-f081be6b3613",
   "metadata": {},
   "outputs": [],
   "source": []
  },
  {
   "cell_type": "code",
   "execution_count": 5,
   "id": "08c950d9-8794-4402-b66d-435fd0310fbb",
   "metadata": {},
   "outputs": [],
   "source": [
    "#exports\n",
    "extract_style_elems = lambda genre_elem: {\n",
    "    style_elem.split(': ')[0].strip(): style_elem.split(': ')[1].replace('px', '')\n",
    "    for style_elem \n",
    "    in genre_elem['style'].split(';')\n",
    "}\n",
    "\n",
    "def extract_canvas_height_width(canvas):\n",
    "    canvas_style_elems = extract_style_elems(canvas)\n",
    "\n",
    "    canvas_height = int(canvas_style_elems['height'])\n",
    "    canvas_width = int(canvas_style_elems['width'])\n",
    "\n",
    "    return canvas_height, canvas_width"
   ]
  },
  {
   "cell_type": "code",
   "execution_count": 6,
   "id": "779f61ca-0c0c-4ad0-af7e-dfcc54602160",
   "metadata": {},
   "outputs": [
    {
     "data": {
      "text/plain": [
       "(19623, 1607)"
      ]
     },
     "execution_count": 6,
     "metadata": {},
     "output_type": "execute_result"
    }
   ],
   "source": [
    "canvas_height, canvas_width = extract_canvas_height_width(canvas)\n",
    "\n",
    "canvas_height, canvas_width"
   ]
  },
  {
   "cell_type": "code",
   "execution_count": null,
   "id": "567a72be-d728-4959-9569-32fc2ac33d98",
   "metadata": {},
   "outputs": [],
   "source": []
  },
  {
   "cell_type": "code",
   "execution_count": 7,
   "id": "54ebcb6a-fc63-4bda-8572-3449a0794b48",
   "metadata": {},
   "outputs": [
    {
     "data": {
      "text/plain": [
       "<div class=\"genre scanme\" id=\"item1\" onclick='playx(\"31GIhpOQpKCzlnuPn03pBQ\", \"piano blues\", this);' preview_url=\"https://p.scdn.co/mp3-preview/fd161f29a12adc40d69671ad6ff05a20135dab40\" scan=\"true\" style=\"color: #66882d; top: 15753px; left: 911px; font-size: 101%\" title=\"e.g. Champion Jack Dupree &quot;Junker's Blues&quot;\">piano blues<a class=\"navlink\" href=\"engenremap-pianoblues.html\" onclick=\"event.stopPropagation();\">»</a> </div>"
      ]
     },
     "execution_count": 7,
     "metadata": {},
     "output_type": "execute_result"
    }
   ],
   "source": [
    "genre_elem = canvas.find('div')\n",
    "\n",
    "genre_elem"
   ]
  },
  {
   "cell_type": "code",
   "execution_count": null,
   "id": "d6d7f176-b538-42b7-be2b-00be2395933c",
   "metadata": {},
   "outputs": [],
   "source": []
  },
  {
   "cell_type": "code",
   "execution_count": 8,
   "id": "d6fa0075-cd2a-49ad-ad5e-f832b2814070",
   "metadata": {},
   "outputs": [],
   "source": [
    "#exports\n",
    "genre_elem_to_name = lambda genre_elem: genre_elem.text.replace('» ', '')"
   ]
  },
  {
   "cell_type": "code",
   "execution_count": 9,
   "id": "645938a8-404b-46a2-8508-503ea78dbe87",
   "metadata": {},
   "outputs": [
    {
     "data": {
      "text/plain": [
       "'piano blues'"
      ]
     },
     "execution_count": 9,
     "metadata": {},
     "output_type": "execute_result"
    }
   ],
   "source": [
    "genre_elem_to_name(genre_elem)"
   ]
  },
  {
   "cell_type": "code",
   "execution_count": null,
   "id": "69c5495c-7986-4a92-9261-ced94900f817",
   "metadata": {},
   "outputs": [],
   "source": []
  },
  {
   "cell_type": "code",
   "execution_count": 10,
   "id": "5a21d672-e739-4842-9f10-8d74d50272b6",
   "metadata": {},
   "outputs": [
    {
     "data": {
      "text/plain": [
       "{'color': '#66882d', 'top': '15753', 'left': '911', 'font-size': '101%'}"
      ]
     },
     "execution_count": 10,
     "metadata": {},
     "output_type": "execute_result"
    }
   ],
   "source": [
    "genre_style_elems = extract_style_elems(genre_elem)\n",
    "\n",
    "genre_style_elems"
   ]
  },
  {
   "cell_type": "code",
   "execution_count": null,
   "id": "4aa28008-76e7-426d-ae3d-fe1cf4973d2b",
   "metadata": {},
   "outputs": [],
   "source": []
  },
  {
   "cell_type": "code",
   "execution_count": 11,
   "id": "5e65fb01-b1a2-4732-a53e-c46747a13137",
   "metadata": {},
   "outputs": [],
   "source": [
    "#exports\n",
    "def get_genre_xy(genre_style_elems, canvas_width, canvas_height):\n",
    "    x = canvas_width - int(genre_style_elems['left'].replace('px', ''))\n",
    "    y = canvas_height - int(genre_style_elems['top'].replace('px', ''))\n",
    "\n",
    "    return x, y"
   ]
  },
  {
   "cell_type": "code",
   "execution_count": 12,
   "id": "d92fe15c-4957-44a9-93ab-28382481f4c3",
   "metadata": {},
   "outputs": [
    {
     "data": {
      "text/plain": [
       "(696, 3870)"
      ]
     },
     "execution_count": 12,
     "metadata": {},
     "output_type": "execute_result"
    }
   ],
   "source": [
    "x, y = get_genre_xy(genre_style_elems, canvas_width, canvas_height)\n",
    "\n",
    "x, y"
   ]
  },
  {
   "cell_type": "code",
   "execution_count": null,
   "id": "8da32b39-7a90-4ef0-98f1-e41109068586",
   "metadata": {},
   "outputs": [],
   "source": []
  },
  {
   "cell_type": "code",
   "execution_count": 13,
   "id": "06293fbe-0a17-48b0-b7d1-c1f650e38836",
   "metadata": {},
   "outputs": [],
   "source": [
    "#exports\n",
    "def hex_to_rgb(value):\n",
    "    if value[0] == '#':\n",
    "        value = value[1:]\n",
    "\n",
    "    len_value = len(value)\n",
    "\n",
    "    if len_value not in [3, 6]:\n",
    "        raise ValueError('Incorect a value hex {}'.format(value))\n",
    "\n",
    "    if len_value == 3:\n",
    "        value = ''.join(i * 2 for i in value)\n",
    "        \n",
    "    return tuple(int(i, 16) for i in textwrap.wrap(value, 2))"
   ]
  },
  {
   "cell_type": "code",
   "execution_count": 14,
   "id": "f9ba5cc6-8c92-49fb-8c5c-52edac34b8ad",
   "metadata": {},
   "outputs": [
    {
     "data": {
      "text/plain": [
       "(102, 136, 45)"
      ]
     },
     "execution_count": 14,
     "metadata": {},
     "output_type": "execute_result"
    }
   ],
   "source": [
    "rgb = hex_to_rgb(genre_style_elems['color'])\n",
    "\n",
    "rgb"
   ]
  },
  {
   "cell_type": "code",
   "execution_count": null,
   "id": "490ec82f-e235-436d-936c-fc563031b80c",
   "metadata": {},
   "outputs": [],
   "source": []
  },
  {
   "cell_type": "code",
   "execution_count": 15,
   "id": "766778ff-1082-41ab-93c0-c7e504630243",
   "metadata": {},
   "outputs": [],
   "source": [
    "#exports\n",
    "def extract_genre_attrs(genre_elem, canvas_width, canvas_height):\n",
    "    genre_attrs = {}\n",
    "\n",
    "    genre_style_elems = extract_style_elems(genre_elem)\n",
    "\n",
    "    genre_attrs['genre'] = genre_elem_to_name(genre_elem)\n",
    "    genre_attrs['x'], genre_attrs['y'] = get_genre_xy(genre_style_elems, canvas_width, canvas_height)\n",
    "    genre_attrs['r'], genre_attrs['g'], genre_attrs['b'] = hex_to_rgb(genre_style_elems['color'])\n",
    "    \n",
    "    return genre_attrs"
   ]
  },
  {
   "cell_type": "code",
   "execution_count": 16,
   "id": "a8827e4b-1bbc-4dca-8b79-7d1e21f34384",
   "metadata": {},
   "outputs": [
    {
     "data": {
      "text/plain": [
       "{'genre': 'piano blues', 'x': 696, 'y': 3870, 'r': 102, 'g': 136, 'b': 45}"
      ]
     },
     "execution_count": 16,
     "metadata": {},
     "output_type": "execute_result"
    }
   ],
   "source": [
    "genre_attrs = extract_genre_attrs(genre_elem, canvas_width, canvas_height)\n",
    "\n",
    "genre_attrs"
   ]
  },
  {
   "cell_type": "code",
   "execution_count": null,
   "id": "9f0cc57e-4a60-4030-9e39-34e7e3720d72",
   "metadata": {},
   "outputs": [],
   "source": []
  },
  {
   "cell_type": "code",
   "execution_count": 17,
   "id": "7cf7aac7-1833-4eaf-adb5-d47eeacd6f6b",
   "metadata": {},
   "outputs": [],
   "source": [
    "#exports\n",
    "def get_df_genre_attrs(everynoise_url='https://everynoise.com/'):\n",
    "    canvas = get_every_noise_canvas(everynoise_url=everynoise_url)\n",
    "    canvas_height, canvas_width = extract_canvas_height_width(canvas)\n",
    "\n",
    "    genre_elems = canvas.find_all('div')\n",
    "    all_genre_attrs = []\n",
    "\n",
    "    for genre_elem in genre_elems:\n",
    "        genre_attrs = extract_genre_attrs(genre_elem, canvas_width, canvas_height)\n",
    "        all_genre_attrs += [genre_attrs]\n",
    "        \n",
    "    df_genre_attrs = pd.DataFrame(all_genre_attrs)\n",
    "    \n",
    "    return df_genre_attrs"
   ]
  },
  {
   "cell_type": "code",
   "execution_count": 18,
   "id": "044905d9-9dbd-4bbe-a461-c916f722bded",
   "metadata": {},
   "outputs": [
    {
     "data": {
      "text/html": [
       "<div>\n",
       "<style scoped>\n",
       "    .dataframe tbody tr th:only-of-type {\n",
       "        vertical-align: middle;\n",
       "    }\n",
       "\n",
       "    .dataframe tbody tr th {\n",
       "        vertical-align: top;\n",
       "    }\n",
       "\n",
       "    .dataframe thead th {\n",
       "        text-align: right;\n",
       "    }\n",
       "</style>\n",
       "<table border=\"1\" class=\"dataframe\">\n",
       "  <thead>\n",
       "    <tr style=\"text-align: right;\">\n",
       "      <th></th>\n",
       "      <th>genre</th>\n",
       "      <th>x</th>\n",
       "      <th>y</th>\n",
       "      <th>r</th>\n",
       "      <th>g</th>\n",
       "      <th>b</th>\n",
       "    </tr>\n",
       "  </thead>\n",
       "  <tbody>\n",
       "    <tr>\n",
       "      <th>0</th>\n",
       "      <td>piano blues</td>\n",
       "      <td>696</td>\n",
       "      <td>3870</td>\n",
       "      <td>102</td>\n",
       "      <td>136</td>\n",
       "      <td>45</td>\n",
       "    </tr>\n",
       "    <tr>\n",
       "      <th>1</th>\n",
       "      <td>australian classical piano</td>\n",
       "      <td>1105</td>\n",
       "      <td>613</td>\n",
       "      <td>28</td>\n",
       "      <td>163</td>\n",
       "      <td>194</td>\n",
       "    </tr>\n",
       "    <tr>\n",
       "      <th>2</th>\n",
       "      <td>histoire pour enfants</td>\n",
       "      <td>454</td>\n",
       "      <td>5661</td>\n",
       "      <td>86</td>\n",
       "      <td>134</td>\n",
       "      <td>8</td>\n",
       "    </tr>\n",
       "    <tr>\n",
       "      <th>3</th>\n",
       "      <td>dutch musical</td>\n",
       "      <td>1067</td>\n",
       "      <td>6080</td>\n",
       "      <td>118</td>\n",
       "      <td>140</td>\n",
       "      <td>20</td>\n",
       "    </tr>\n",
       "    <tr>\n",
       "      <th>4</th>\n",
       "      <td>blues</td>\n",
       "      <td>600</td>\n",
       "      <td>3971</td>\n",
       "      <td>105</td>\n",
       "      <td>134</td>\n",
       "      <td>32</td>\n",
       "    </tr>\n",
       "  </tbody>\n",
       "</table>\n",
       "</div>"
      ],
      "text/plain": [
       "                        genre     x     y    r    g    b\n",
       "0                 piano blues   696  3870  102  136   45\n",
       "1  australian classical piano  1105   613   28  163  194\n",
       "2       histoire pour enfants   454  5661   86  134    8\n",
       "3               dutch musical  1067  6080  118  140   20\n",
       "4                       blues   600  3971  105  134   32"
      ]
     },
     "execution_count": 18,
     "metadata": {},
     "output_type": "execute_result"
    }
   ],
   "source": [
    "df_genre_attrs = get_df_genre_attrs()\n",
    "\n",
    "df_genre_attrs.head()"
   ]
  },
  {
   "cell_type": "code",
   "execution_count": null,
   "id": "0fe81359-bad3-49f8-9d99-1082bfba5a97",
   "metadata": {},
   "outputs": [],
   "source": []
  },
  {
   "cell_type": "code",
   "execution_count": 19,
   "id": "0357bef8-2afd-4f7d-85ab-66d6d07ee68b",
   "metadata": {},
   "outputs": [],
   "source": [
    "#exports\n",
    "app = typer.Typer()"
   ]
  },
  {
   "cell_type": "code",
   "execution_count": null,
   "id": "f81e6f28-e9b5-4254-a827-d3bcd7fa45c8",
   "metadata": {},
   "outputs": [],
   "source": []
  },
  {
   "cell_type": "code",
   "execution_count": 25,
   "id": "24adad09-22a3-4043-beae-0cdf8d6930d8",
   "metadata": {},
   "outputs": [],
   "source": [
    "#exports\n",
    "@app.command()\n",
    "def download_genre_attrs(fp='data/genre_attrs.csv'):\n",
    "    df_genre_attrs = get_df_genre_attrs()\n",
    "    df_genre_attrs.to_csv(fp, index=False)\n",
    "    \n",
    "    return"
   ]
  },
  {
   "cell_type": "code",
   "execution_count": 26,
   "id": "149d0d27-1e89-42e2-b507-d1a608fa0680",
   "metadata": {},
   "outputs": [],
   "source": [
    "download_genre_attrs()"
   ]
  },
  {
   "cell_type": "code",
   "execution_count": null,
   "id": "256b1631-cd17-4c8c-8b3b-7b5c88753f9c",
   "metadata": {},
   "outputs": [],
   "source": []
  },
  {
   "cell_type": "code",
   "execution_count": 22,
   "id": "b71b71f2-52eb-4c7d-a444-bc172f735d11",
   "metadata": {},
   "outputs": [],
   "source": [
    "#exports\n",
    "if __name__ == '__main__' and '__file__' in globals():\n",
    "    app()"
   ]
  },
  {
   "cell_type": "code",
   "execution_count": null,
   "id": "2e59f2f1-417f-4afb-9a91-5f59b7e64eb8",
   "metadata": {},
   "outputs": [],
   "source": []
  },
  {
   "cell_type": "code",
   "execution_count": 23,
   "id": "c10430d7-e7ec-4adc-aafa-3b980a4d79b3",
   "metadata": {},
   "outputs": [],
   "source": [
    "import os\n",
    "from nbdev import export\n",
    "from nbdev.imports import Path, Config\n",
    "\n",
    "def create_mod_files(files, to_dict=False, bare=False):\n",
    "    \"Create mod files for default exports found in `files`\"\n",
    "    modules = []\n",
    "    \n",
    "    for f in sorted(files):\n",
    "        fname = Path(f)\n",
    "        nb = export.read_nb(fname)\n",
    "        default = export.find_default_export(nb['cells'])\n",
    "        \n",
    "        if default is not None:\n",
    "            default = os.path.sep.join(default.split('.'))\n",
    "            modules.append(default)\n",
    "            \n",
    "            if not to_dict:\n",
    "                nbs_path = Config().path(\"nbs_path\")\n",
    "                if nbs_path is None:\n",
    "                    nbs_path = '.'\n",
    "                    \n",
    "                export.create_mod_file(Config().path(\"lib_path\")/f'{default}.py', f'{nbs_path}/{fname}', bare=bare)\n",
    "                \n",
    "    return modules\n",
    "\n",
    "export.create_mod_files = create_mod_files"
   ]
  },
  {
   "cell_type": "code",
   "execution_count": 27,
   "id": "ce673826-f8fe-4e3d-ae2c-5f58526a31dc",
   "metadata": {},
   "outputs": [
    {
     "name": "stdout",
     "output_type": "stream",
     "text": [
      "Converted library-gen.ipynb.\n"
     ]
    }
   ],
   "source": [
    "#hide\n",
    "export.notebook2script('library-gen.ipynb')"
   ]
  }
 ],
 "metadata": {
  "kernelspec": {
   "display_name": "EveryNoise",
   "language": "python",
   "name": "everynoise"
  },
  "language_info": {
   "codemirror_mode": {
    "name": "ipython",
    "version": 3
   },
   "file_extension": ".py",
   "mimetype": "text/x-python",
   "name": "python",
   "nbconvert_exporter": "python",
   "pygments_lexer": "ipython3",
   "version": "3.9.4"
  }
 },
 "nbformat": 4,
 "nbformat_minor": 5
}
